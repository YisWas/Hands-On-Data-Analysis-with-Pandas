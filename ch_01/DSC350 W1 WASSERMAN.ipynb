{
 "cells": [
  {
   "cell_type": "code",
   "execution_count": 1,
   "id": "a3a41eb7",
   "metadata": {},
   "outputs": [
    {
     "name": "stdout",
     "output_type": "stream",
     "text": [
      "Hello World!\n"
     ]
    }
   ],
   "source": [
    "# Print \"Hello World!\"\n",
    "print(\"Hello World!\")\n"
   ]
  },
  {
   "cell_type": "code",
   "execution_count": 2,
   "id": "6e099642",
   "metadata": {},
   "outputs": [
    {
     "name": "stdout",
     "output_type": "stream",
     "text": [
      "4\n"
     ]
    }
   ],
   "source": [
    "# Add two numbers together\n",
    "print(2 + 2)\n"
   ]
  },
  {
   "cell_type": "code",
   "execution_count": 3,
   "id": "f99b79a6",
   "metadata": {},
   "outputs": [
    {
     "name": "stdout",
     "output_type": "stream",
     "text": [
      "3\n"
     ]
    }
   ],
   "source": [
    "# Subtract a number from another number\n",
    "print(5 - 2)\n"
   ]
  },
  {
   "cell_type": "code",
   "execution_count": 4,
   "id": "3b27bbbe",
   "metadata": {},
   "outputs": [
    {
     "name": "stdout",
     "output_type": "stream",
     "text": [
      "1.0\n"
     ]
    }
   ],
   "source": [
    "# Divide between two numbers\n",
    "print(2 / 2)\n"
   ]
  },
  {
   "cell_type": "code",
   "execution_count": 5,
   "id": "0c3f6592",
   "metadata": {},
   "outputs": [
    {
     "name": "stdout",
     "output_type": "stream",
     "text": [
      "HelloWorld!\n"
     ]
    }
   ],
   "source": [
    "# Concatenate two strings together\n",
    "s1 = 'Hello'\n",
    "s2 = 'World!'\n",
    "s3 = s1 + s2\n",
    "print(s3)\n"
   ]
  },
  {
   "cell_type": "code",
   "execution_count": 6,
   "id": "b77dc815",
   "metadata": {},
   "outputs": [
    {
     "name": "stdout",
     "output_type": "stream",
     "text": [
      "[1, 2, 3, 4]\n"
     ]
    }
   ],
   "source": [
    "# Create a list of 4 items\n",
    "my_list = [1, 2, 3, 4]\n",
    "print(my_list)\n"
   ]
  },
  {
   "cell_type": "code",
   "execution_count": 7,
   "id": "2d1e1d62",
   "metadata": {},
   "outputs": [
    {
     "name": "stdout",
     "output_type": "stream",
     "text": [
      "[1, 2, 3, 4, 'Apple']\n"
     ]
    }
   ],
   "source": [
    "# Append an item to the list\n",
    "my_list.append('Apple')\n",
    "print(my_list)\n"
   ]
  },
  {
   "cell_type": "code",
   "execution_count": 8,
   "id": "9345a239",
   "metadata": {},
   "outputs": [],
   "source": [
    "# Answers to the questions\n",
    "# 1) I'm using PyCharm and I did some exploring.\n",
    "# 2) No, not all numbers are bell curves. That implies that the mean (average) is also the median (the middle number).\n",
    "# 3) When there are outliers in the dataset, that will distort the data.\n",
    "# 4) Done.\n"
   ]
  },
  {
   "cell_type": "code",
   "execution_count": 9,
   "id": "a3d9170a",
   "metadata": {},
   "outputs": [
    {
     "name": "stdout",
     "output_type": "stream",
     "text": [
      "Intel MKL WARNING: Support of Intel(R) Streaming SIMD Extensions 4.2 (Intel(R) SSE4.2) enabled only processors has been deprecated. Intel oneAPI Math Kernel Library 2025.0 will require Intel(R) Advanced Vector Extensions (Intel(R) AVX) instructions.\n",
      "Intel MKL WARNING: Support of Intel(R) Streaming SIMD Extensions 4.2 (Intel(R) SSE4.2) enabled only processors has been deprecated. Intel oneAPI Math Kernel Library 2025.0 will require Intel(R) Advanced Vector Extensions (Intel(R) AVX) instructions.\n",
      "Mean: 585690.0\n",
      "mean_test: 585690.0\n",
      "Median: 593000.0\n",
      "median test: 589000.0\n",
      "Mode: 477000.0\n",
      "mode_test: [477000.0]\n",
      "Sample Variance: 70664054444.44444\n",
      "test_var: 70664054444.44444\n",
      "Sample Standard Deviation: 265827.11382484\n",
      "Test Sample Standard Deviation: 265827.11382484\n",
      "Range: 995000.0\n"
     ]
    }
   ],
   "source": [
    "import statistics\n",
    "import random\n",
    "import numpy as np\n",
    "\n",
    "random.seed(0)\n",
    "salaries = [round(random.random() * 1000000, -3) for _ in range(100)]\n",
    "\n",
    "# Mean\n",
    "mean = sum(salaries) / len(salaries)\n",
    "print(\"Mean:\", mean)\n",
    "mean_test = statistics.mean(salaries)\n",
    "print(\"mean_test:\", mean_test)\n",
    "\n",
    "# Median\n",
    "salaries.sort()\n",
    "median1 = salaries[50]\n",
    "median2 = salaries[51]\n",
    "median = (median1 + median2) / 2\n",
    "print(\"Median:\", median)\n",
    "median_test = statistics.median(salaries)\n",
    "print(\"median test:\", median_test)\n",
    "\n",
    "# Mode\n",
    "mode = statistics.mode(salaries)\n",
    "print(\"Mode:\", mode)\n",
    "mode_test = statistics.multimode(salaries)\n",
    "print(\"mode_test:\", mode_test)\n",
    "\n",
    "# Sample variance\n",
    "variance = statistics.variance(salaries)\n",
    "print(\"Sample Variance:\", variance)\n",
    "test_variance = np.var(salaries, ddof=1)\n",
    "print(\"test_var:\", test_variance)\n",
    "\n",
    "# Sample standard deviation\n",
    "std_dev = statistics.stdev(salaries)\n",
    "print(\"Sample Standard Deviation:\", std_dev)\n",
    "test_std_dev = np.std(salaries, ddof=1)\n",
    "print(\"Test Sample Standard Deviation:\", test_std_dev)\n",
    "\n",
    "# Range\n",
    "largest_num = max(salaries)\n",
    "smallest_num = min(salaries)\n",
    "range_value = largest_num - smallest_num\n",
    "print(\"Range:\", range_value)\n",
    "\n",
    "# Coefficient of variation\n",
    "coefficient_of_variation = (std_dev / mean) * 100\n"
   ]
  },
  {
   "cell_type": "code",
   "execution_count": null,
   "id": "e7deb79c",
   "metadata": {},
   "outputs": [],
   "source": []
  }
 ],
 "metadata": {
  "kernelspec": {
   "display_name": "Python 3 (ipykernel)",
   "language": "python",
   "name": "python3"
  },
  "language_info": {
   "codemirror_mode": {
    "name": "ipython",
    "version": 3
   },
   "file_extension": ".py",
   "mimetype": "text/x-python",
   "name": "python",
   "nbconvert_exporter": "python",
   "pygments_lexer": "ipython3",
   "version": "3.10.11"
  }
 },
 "nbformat": 4,
 "nbformat_minor": 5
}
