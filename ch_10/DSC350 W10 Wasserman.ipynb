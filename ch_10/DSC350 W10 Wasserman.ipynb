{
 "cells": [
  {
   "cell_type": "code",
   "execution_count": 15,
   "id": "0f9134ea",
   "metadata": {},
   "outputs": [],
   "source": [
    "import pandas as pd\n",
    "%matplotlib inline\n",
    "import matplotlib.pyplot as plt\n",
    "import pandas as pd"
   ]
  },
  {
   "cell_type": "code",
   "execution_count": 23,
   "id": "ea0839dc",
   "metadata": {},
   "outputs": [
    {
     "name": "stdout",
     "output_type": "stream",
     "text": [
      "\n",
      "CommandNotFoundError: No command 'conda pip3'.\n",
      "\n",
      "\n",
      "Note: you may need to restart the kernel to use updated packages.\n"
     ]
    }
   ],
   "source": []
  },
  {
   "cell_type": "code",
   "execution_count": 5,
   "id": "da71a04d",
   "metadata": {},
   "outputs": [],
   "source": [
    "amzn = pd.read_csv('amazon.csv', index_col ='date', parse_dates=True)\n",
    "goog = pd.read_csv('google.csv', index_col ='date', parse_dates=True)\n",
    "nflx = pd.read_csv('netflix.csv', index_col ='date', parse_dates=True)\n",
    "btc = pd.read_csv('bitcoin.csv', index_col ='date', parse_dates=True)\n",
    "nflx_19 = pd.read_csv('netflix_january_2019.csv', index_col ='date', parse_dates=True)\n",
    "spx = pd.read_csv('sp500.csv', index_col ='date', parse_dates=True)\n",
    "appl = pd.read_csv('apple.csv', index_col ='date', parse_dates=True)\n",
    "meta = pd.read_csv('facebook.csv', index_col ='date', parse_dates=True)"
   ]
  },
  {
   "cell_type": "code",
   "execution_count": null,
   "id": "92b0023b",
   "metadata": {},
   "outputs": [],
   "source": [
    "''''\n",
    "#Exercises Use the stock_analysis package to complete the following exercises. \n",
    "#Unless otherwise noted, use data from 2017 through to the end of 2018: \n",
    "1. calculate and plot three levels of support and resistance for Netflix's closing price from 2017-2018.\n",
    "2.With the StockVisualizer, look at the effect of after-hours trading on the FAANG stocks: \n",
    "a. As individual stocks \n",
    "b. As a portfolio using the make_portfolio() function from stock_analysis.utils \n",
    "\n",
    "3. Using the StockVisualizer.open_to_close() method, create a plot that fills the area between the FAANG stocks'\n",
    "opening price (as a portfolio) and its closing price each day in red if the price declined and in green if the \n",
    "price increased. \n",
    "\n",
    "bonus) As a bonus, do the same for a portfolio of bitcoin and the S&P 500.\n",
    "\n",
    "4.Mutual funds and exchange-traded funds (ETFs) are funds that are composed of many assets. \n",
    "They are built to mitigate risk, so volatility for the fund will be lower than that of the assets that compose it.\n",
    "Information on how they differ can be found at\n",
    "https://www.investopedia.com/articles/exchangetradedfunds/08/etf-mutual-fund-difference.asp. \n",
    "Compare a mutual fund or ETF of your choice to three of its largest stocks (by composition) using annualized \n",
    "volatility and the AssetGroupAnalyzer. \n",
    "\n",
    "5. Write a function that returns a dataframe of one row with columns for alpha,\n",
    "beta, annualized_volatility, is_bear_market, and is_bull_market, which each contain the results of running the\n",
    "respective methods on a given stock using the StockAnalyzer. Dictionary comprehensions and the getattr() \n",
    "function, as used in the AssetGroupAnalyzer.analyze() method, will be useful.\n",
    "''''"
   ]
  },
  {
   "cell_type": "code",
   "execution_count": null,
   "id": "889b6841",
   "metadata": {},
   "outputs": [],
   "source": [
    "#1.Using the StockAnalyzer,  calculate and plot three levels of support and resistance for Netflix's closing price from 2017-2018.\n"
   ]
  }
 ],
 "metadata": {
  "kernelspec": {
   "display_name": "Python 3 (ipykernel)",
   "language": "python",
   "name": "python3"
  },
  "language_info": {
   "codemirror_mode": {
    "name": "ipython",
    "version": 3
   },
   "file_extension": ".py",
   "mimetype": "text/x-python",
   "name": "python",
   "nbconvert_exporter": "python",
   "pygments_lexer": "ipython3",
   "version": "3.10.9"
  }
 },
 "nbformat": 4,
 "nbformat_minor": 5
}
